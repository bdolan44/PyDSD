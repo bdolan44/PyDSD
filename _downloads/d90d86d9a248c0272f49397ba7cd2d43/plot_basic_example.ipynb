{
  "cells": [
    {
      "cell_type": "code",
      "execution_count": null,
      "metadata": {
        "collapsed": false
      },
      "outputs": [],
      "source": [
        "%matplotlib inline"
      ]
    },
    {
      "cell_type": "markdown",
      "metadata": {},
      "source": [
        "\nSimple Example\n--------------\n\nA simple example using PyDSD. This example reads in a OTT APU Disdrometer file, calculates the radar variables, and plots a few of them.\nAuthor: Joseph C. Hardin\n\n"
      ]
    },
    {
      "cell_type": "code",
      "execution_count": null,
      "metadata": {
        "collapsed": false
      },
      "outputs": [],
      "source": [
        "import numpy as np\nimport matplotlib.pyplot as plt\n\nimport pydsd as pyd\n\n\nfilename = '../testdata/sgpdisdrometerC1.b1.20110427.000000_test_jwd_b1.cdf'\ndsd = pyd.aux_readers.ARM_JWD_Reader.read_arm_jwd_b1(filename)\n#Read in the Parsivel File\nfig = plt.figure(figsize=(8,8))\nplt.plot(dsd.fields['Nd']['data'][0])\n\nplt.show()"
      ]
    }
  ],
  "metadata": {
    "kernelspec": {
      "display_name": "Python 3",
      "language": "python",
      "name": "python3"
    },
    "language_info": {
      "codemirror_mode": {
        "name": "ipython",
        "version": 3
      },
      "file_extension": ".py",
      "mimetype": "text/x-python",
      "name": "python",
      "nbconvert_exporter": "python",
      "pygments_lexer": "ipython3",
      "version": "3.6.6"
    }
  },
  "nbformat": 4,
  "nbformat_minor": 0
}