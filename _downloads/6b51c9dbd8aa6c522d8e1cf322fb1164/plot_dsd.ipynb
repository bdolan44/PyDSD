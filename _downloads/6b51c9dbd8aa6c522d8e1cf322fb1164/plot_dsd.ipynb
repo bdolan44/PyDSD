{
  "cells": [
    {
      "cell_type": "code",
      "execution_count": null,
      "metadata": {
        "collapsed": false
      },
      "outputs": [],
      "source": [
        "%matplotlib inline"
      ]
    },
    {
      "cell_type": "markdown",
      "metadata": {},
      "source": [
        "\nSimple Example\n--------------\n\nA simple example using PyDSD. This example reads in a OTT APU Disdrometer file, calculates the radar variables, and plots a few of them.\nAuthor: Joseph C. Hardin\n\n"
      ]
    },
    {
      "cell_type": "code",
      "execution_count": null,
      "metadata": {
        "collapsed": false
      },
      "outputs": [],
      "source": [
        "import numpy as np\nimport matplotlib.pyplot as plt\n\nimport pydsd as pyd\n\nfilename = '../testdata/sgpdisdrometerC1.b1.20110427.000000_test_jwd_b1.cdf'\ndsd = pyd.read_arm_jwd_b1(filename)\n#dsd = pyd.read_parsivel_nasa_gv(filename)\n#Read in the Parsivel File\ndsd.calculate_dsd_parameterization()\nfig = plt.figure(figsize=(8,8))\n\n# pyd.plot.plot_dsd(dsd)\npyd.plot.plot_NwD0(dsd)\nplt.title('Drop Size Distribution')\n\nplt.show()"
      ]
    }
  ],
  "metadata": {
    "kernelspec": {
      "display_name": "Python 3",
      "language": "python",
      "name": "python3"
    },
    "language_info": {
      "codemirror_mode": {
        "name": "ipython",
        "version": 3
      },
      "file_extension": ".py",
      "mimetype": "text/x-python",
      "name": "python",
      "nbconvert_exporter": "python",
      "pygments_lexer": "ipython3",
      "version": "3.6.6"
    }
  },
  "nbformat": 4,
  "nbformat_minor": 0
}